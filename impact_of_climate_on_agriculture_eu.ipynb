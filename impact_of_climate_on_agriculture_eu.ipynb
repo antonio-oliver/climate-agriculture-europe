{
 "cells": [
  {
   "cell_type": "markdown",
   "metadata": {},
   "source": [
    "# Climate and Agriculture Analysis in Europe"
   ]
  },
  {
   "cell_type": "markdown",
   "metadata": {},
   "source": [
    "This notebook analyzes the impact of climate variables on agricultural production in Europe from 2000 to 2022."
   ]
  },
  {
   "cell_type": "markdown",
   "metadata": {},
   "source": [
    "## Data processing"
   ]
  },
  {
   "cell_type": "code",
   "execution_count": 2,
   "metadata": {},
   "outputs": [],
   "source": [
    "import xarray as xr\n",
    "import pandas as pd\n",
    "import numpy as np\n",
    "import matplotlib.pyplot as plt\n",
    "import seaborn as sns\n",
    "import plotly.express as pxr\n",
    "\n",
    "# Configure plots\n",
    "#plt.style.use(\"seaborn\")\n",
    "sns.set_palette(\"viridis\")\n",
    "\n",
    "# Paths to data files\n",
    "climate_instant_path = \"/workspaces/climate-agriculture-europe/data/raw/data_stream-oper_stepType-instant.nc\"\n",
    "climate_accum_path = \"/workspaces/climate-agriculture-europe/data/raw/data_stream-oper_stepType-accum.nc\"\n",
    "agriculture_path = \"/workspaces/climate-agriculture-europe/data/raw/agriculture_data_eu.csv\" "
   ]
  },
  {
   "cell_type": "code",
   "execution_count": 3,
   "metadata": {},
   "outputs": [
    {
     "name": "stdout",
     "output_type": "stream",
     "text": [
      "<xarray.Dataset> Size: 2GB\n",
      "Dimensions:     (valid_time: 33604, latitude: 149, longitude: 81)\n",
      "Coordinates:\n",
      "    number      int64 8B ...\n",
      "  * valid_time  (valid_time) datetime64[ns] 269kB 2000-01-01 ... 2022-12-31T1...\n",
      "  * latitude    (latitude) float64 1kB 72.0 71.75 71.5 71.25 ... 35.5 35.25 35.0\n",
      "  * longitude   (longitude) float64 648B 25.0 25.25 25.5 ... 44.5 44.75 45.0\n",
      "    expver      (valid_time) <U4 538kB ...\n",
      "Data variables:\n",
      "    t2m         (valid_time, latitude, longitude) float32 2GB ...\n",
      "Attributes:\n",
      "    GRIB_centre:             ecmf\n",
      "    GRIB_centreDescription:  European Centre for Medium-Range Weather Forecasts\n",
      "    GRIB_subCentre:          0\n",
      "    Conventions:             CF-1.7\n",
      "    institution:             European Centre for Medium-Range Weather Forecasts\n",
      "    history:                 2024-12-12T09:31 GRIB to CDM+CF via cfgrib-0.9.1...\n"
     ]
    }
   ],
   "source": [
    "try:\n",
    "    ds = xr.open_dataset(climate_instant_path)\n",
    "    print(ds)\n",
    "except FileNotFoundError:\n",
    "    print(f\"Archivo no encontrado: {climate_instant_path}\")"
   ]
  },
  {
   "cell_type": "code",
   "execution_count": 4,
   "metadata": {},
   "outputs": [
    {
     "name": "stdout",
     "output_type": "stream",
     "text": [
      "<xarray.Dataset> Size: 2GB\n",
      "Dimensions:     (valid_time: 33604, latitude: 149, longitude: 81)\n",
      "Coordinates:\n",
      "    number      int64 8B ...\n",
      "  * valid_time  (valid_time) datetime64[ns] 269kB 2000-01-01 ... 2022-12-31T1...\n",
      "  * latitude    (latitude) float64 1kB 72.0 71.75 71.5 71.25 ... 35.5 35.25 35.0\n",
      "  * longitude   (longitude) float64 648B 25.0 25.25 25.5 ... 44.5 44.75 45.0\n",
      "    expver      (valid_time) <U4 538kB ...\n",
      "Data variables:\n",
      "    tp          (valid_time, latitude, longitude) float32 2GB ...\n",
      "Attributes:\n",
      "    GRIB_centre:             ecmf\n",
      "    GRIB_centreDescription:  European Centre for Medium-Range Weather Forecasts\n",
      "    GRIB_subCentre:          0\n",
      "    Conventions:             CF-1.7\n",
      "    institution:             European Centre for Medium-Range Weather Forecasts\n",
      "    history:                 2024-12-12T09:31 GRIB to CDM+CF via cfgrib-0.9.1...\n"
     ]
    }
   ],
   "source": [
    "try:\n",
    "    ds = xr.open_dataset(climate_accum_path)\n",
    "    print(ds)\n",
    "except FileNotFoundError:\n",
    "    print(f\"Archivo no encontrado: {climate_accum_path}\")"
   ]
  },
  {
   "cell_type": "markdown",
   "metadata": {},
   "source": [
    "Climate data processing."
   ]
  },
  {
   "cell_type": "code",
   "execution_count": 5,
   "metadata": {},
   "outputs": [
    {
     "name": "stdout",
     "output_type": "stream",
     "text": [
      "Loading climate data...\n"
     ]
    },
    {
     "name": "stderr",
     "output_type": "stream",
     "text": [
      "/usr/local/python/3.12.1/lib/python3.12/site-packages/xarray/groupers.py:487: FutureWarning: 'M' is deprecated and will be removed in a future version, please use 'ME' instead.\n",
      "  self.index_grouper = pd.Grouper(\n"
     ]
    },
    {
     "ename": "",
     "evalue": "",
     "output_type": "error",
     "traceback": [
      "\u001b[1;31mEl kernel se bloqueó al ejecutar código en la celda actual o en una celda anterior. \n",
      "\u001b[1;31mRevise el código de las celdas para identificar una posible causa del error. \n",
      "\u001b[1;31mHaga clic <a href='https://aka.ms/vscodeJupyterKernelCrash'>aquí</a> para obtener más información. \n",
      "\u001b[1;31mVea Jupyter <a href='command:jupyter.viewOutput'>log</a> para obtener más detalles."
     ]
    }
   ],
   "source": [
    "# Load climate data\n",
    "print(\"Loading climate data...\")\n",
    "instant_data = xr.open_dataset(climate_instant_path)\n",
    "accum_data = xr.open_dataset(climate_accum_path)\n",
    "\n",
    "# Extract temperature (instantaneous)\n",
    "temperature = instant_data[\"t2m\"] - 273.15  # Convert to Celsius\n",
    "temperature_europe = temperature.sel(latitude=slice(72, 35), longitude=slice(-25, 45))\n",
    "temperature_monthly = temperature_europe.resample(valid_time=\"1M\").mean()\n",
    "\n",
    "# Extract precipitation (accumulated)\n",
    "precipitation = accum_data[\"tp\"] * 1000  # Convert to mm\n",
    "precipitation_europe = precipitation.sel(latitude=slice(72, 35), longitude=slice(-25, 45))\n",
    "precipitation_monthly = precipitation_europe.resample(valid_time=\"1M\").sum()\n",
    "\n",
    "# Convert to pandas DataFrame\n",
    "temperature_df = temperature_monthly.to_dataframe().reset_index()\n",
    "precipitation_df = precipitation_monthly.to_dataframe().reset_index()\n",
    "\n",
    "# Merge temperature and precipitation data\n",
    "print(\"Combining climate variables...\")\n",
    "climate_data = pd.merge(\n",
    "    temperature_df, \n",
    "    precipitation_df, \n",
    "    on=[\"valid_time\", \"latitude\", \"longitude\"], \n",
    "    how=\"inner\"\n",
    ")\n",
    "climate_data.rename(columns={\"t2m\": \"temperature_celsius\", \"tp\": \"precipitation_mm\"}, inplace=True)\n",
    "\n",
    "# Save processed climate data\n",
    "climate_data.to_csv(\"../data/processed/climate_data_europe.csv\", index=False)\n",
    "print(\"Climate data processed and saved.\")"
   ]
  },
  {
   "cell_type": "markdown",
   "metadata": {},
   "source": [
    "Agriculture data processing."
   ]
  },
  {
   "cell_type": "code",
   "execution_count": null,
   "metadata": {},
   "outputs": [],
   "source": [
    "# Load agriculture data\n",
    "print(\"Loading agricultural data...\")\n",
    "agriculture_data = pd.read_csv(agriculture_path)\n",
    "\n",
    "# Filter relevant crops for Europe and Spain\n",
    "crops_to_keep = [\"Wheat\", \"Maize\", \"Rice\", \"Soybeans\", \"Potatoes\", \"Olives\", \"Grapes\", \"Tomatoes\", \"Barley\", \"Oranges\"]\n",
    "agriculture_data = agriculture_data[agriculture_data[\"Item\"].isin(crops_to_keep)]\n",
    "\n",
    "# Filter relevant columns and rows\n",
    "elements_to_keep = [\"Production quantity\", \"Yield\", \"Area harvested\"]\n",
    "agriculture_data = agriculture_data[agriculture_data[\"Element\"].isin(elements_to_keep)]\n",
    "agriculture_data = agriculture_data[agriculture_data[\"Year\"] >= 2000]\n",
    "\n",
    "# Save processed agriculture data\n",
    "agriculture_data.to_csv(\"../data/processed/agriculture_data_europe.csv\", index=False)\n",
    "print(\"Agriculture data processed and saved.\")"
   ]
  },
  {
   "cell_type": "markdown",
   "metadata": {},
   "source": [
    "Data integration."
   ]
  },
  {
   "cell_type": "markdown",
   "metadata": {},
   "source": [
    "## Exploratory Data Analysis (EDA)"
   ]
  },
  {
   "cell_type": "code",
   "execution_count": null,
   "metadata": {},
   "outputs": [],
   "source": []
  }
 ],
 "metadata": {
  "kernelspec": {
   "display_name": "Python 3",
   "language": "python",
   "name": "python3"
  },
  "language_info": {
   "codemirror_mode": {
    "name": "ipython",
    "version": 3
   },
   "file_extension": ".py",
   "mimetype": "text/x-python",
   "name": "python",
   "nbconvert_exporter": "python",
   "pygments_lexer": "ipython3",
   "version": "3.12.1"
  }
 },
 "nbformat": 4,
 "nbformat_minor": 2
}
